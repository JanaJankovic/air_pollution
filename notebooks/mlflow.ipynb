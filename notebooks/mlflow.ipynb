{
 "cells": [
  {
   "cell_type": "code",
   "execution_count": 118,
   "metadata": {},
   "outputs": [],
   "source": [
    "import pandas as pd\n",
    "from sklearn.metrics import mean_absolute_error, mean_squared_error, explained_variance_score\n",
    "import numpy as np\n",
    "import mlflow\n",
    "from sklearn.pipeline import Pipeline\n",
    "from sklearn.impute import SimpleImputer\n",
    "from sklearn.compose import ColumnTransformer\n",
    "from sklearn.base import BaseEstimator, TransformerMixin\n",
    "from sklearn.neural_network import MLPRegressor\n",
    "from sklearn.model_selection import GridSearchCV\n",
    "from mlflow.models.signature import infer_signature\n",
    "from mlflow import MlflowClient"
   ]
  },
  {
   "cell_type": "code",
   "execution_count": 119,
   "metadata": {},
   "outputs": [],
   "source": [
    "train_path = '../data/processed/train.csv'\n",
    "test_path = '../data/processed/test.csv'\n",
    "metrics_path ='../reports/metrics.txt'"
   ]
  },
  {
   "cell_type": "code",
   "execution_count": 120,
   "metadata": {},
   "outputs": [],
   "source": [
    "class CategoricalTransformer(BaseEstimator, TransformerMixin):\n",
    "    def fit(self, X, y=None):\n",
    "        return self\n",
    "\n",
    "    def transform(self, X):\n",
    "        return transform_categorical(X)\n",
    "\n",
    "\n",
    "def transform_categorical(column):\n",
    "    pm10 = column['pm10']\n",
    "    pm10 = pm10.str.replace('<', '')\n",
    "    nan_mask = pm10.isna()\n",
    "    pm10nan = pm10[nan_mask]\n",
    "\n",
    "    pm10 = pm10.str.strip().dropna().loc[lambda x: x.str.len() > 0]\n",
    "    pm10 = pm10.astype('float')\n",
    "\n",
    "    pm10nan[:] = pm10.mean()\n",
    "    pm10 = pd.concat([pm10, pm10nan], axis=0)\n",
    "\n",
    "    column['pm10'] = pm10.astype('float')\n",
    "    return column"
   ]
  },
  {
   "cell_type": "code",
   "execution_count": 121,
   "metadata": {},
   "outputs": [],
   "source": [
    "def transform_test(test_path, categorical_transform, numerical_transform):\n",
    "    csv = pd.read_csv(test_path, encoding='utf_8')\n",
    "    test = pd.DataFrame(csv)\n",
    "    print('Data read')\n",
    "\n",
    "    cat_features = test.select_dtypes(include=['object']).columns.tolist()\n",
    "    num_features = test.select_dtypes(\n",
    "        include=['float64', 'int64']).columns.tolist()\n",
    "\n",
    "    test_preprocessor = ColumnTransformer([\n",
    "        ('pm10_transform', categorical_transform, cat_features),\n",
    "        ('normal_transform', numerical_transform, num_features)\n",
    "    ])\n",
    "\n",
    "    arr = test_preprocessor.fit_transform(test)\n",
    "\n",
    "    test = pd.DataFrame(\n",
    "        arr, columns=['temp', 'hum', 'percp', 'wspeed', 'pm10'])\n",
    "    return test.astype('float')"
   ]
  },
  {
   "cell_type": "code",
   "execution_count": 122,
   "metadata": {},
   "outputs": [
    {
     "name": "stderr",
     "output_type": "stream",
     "text": [
      "2023/04/07 19:59:16 INFO mlflow.tracking.fluent: Autologging successfully enabled for sklearn.\n"
     ]
    }
   ],
   "source": [
    "MLFLOW_TRACKING_URI = \"https://dagshub.com/JanaJankovic/air_pollution.mlflow\"\n",
    "mlflow.set_tracking_uri(MLFLOW_TRACKING_URI)\n",
    "mlflow.set_experiment(\"airpollution-mlruns\")\n",
    "mlflow.autolog()\n"
   ]
  },
  {
   "cell_type": "code",
   "execution_count": 123,
   "metadata": {},
   "outputs": [
    {
     "name": "stderr",
     "output_type": "stream",
     "text": [
      "2023/04/07 19:59:17 WARNING mlflow.sklearn: Training metrics will not be recorded because training labels were not specified. To automatically record training metrics, provide training labels as inputs to the model training function.\n",
      "2023/04/07 19:59:17 WARNING mlflow.sklearn: Failed to infer model signature: the trained model does not specify a `predict` function, which is required in order to infer the signature\n",
      "2023/04/07 19:59:17 WARNING mlflow.sklearn: Model was missing function: predict. Not logging python_function flavor!\n",
      "2023/04/07 19:59:20 WARNING mlflow.models.model: Logging model metadata to the tracking server has failed, possibly due older server version. The model artifacts have been logged successfully under s3://iis-airpollution/mlruns/de54e4439dc04abc869b6ca1e105596c/artifacts. In addition to exporting model artifacts, MLflow clients 1.7.0 and above attempt to record model metadata to the tracking store. If logging to a mlflow server via REST, consider upgrading the server version to MLflow 1.7.0 or above. Set logging level to DEBUG via `logging.getLogger(\"mlflow\").setLevel(logging.DEBUG)` to see the full traceback.\n",
      "c:\\Users\\jana.jankovic\\.pyenv\\pyenv-win\\versions\\3.10.5\\lib\\site-packages\\sklearn\\neural_network\\_multilayer_perceptron.py:1599: DataConversionWarning: A column-vector y was passed when a 1d array was expected. Please change the shape of y to (n_samples, ), for example using ravel().\n",
      "  y = column_or_1d(y, warn=True)\n"
     ]
    },
    {
     "name": "stdout",
     "output_type": "stream",
     "text": [
      "Fitting 5 folds for each of 4 candidates, totalling 20 fits\n"
     ]
    },
    {
     "name": "stderr",
     "output_type": "stream",
     "text": [
      "c:\\Users\\jana.jankovic\\.pyenv\\pyenv-win\\versions\\3.10.5\\lib\\site-packages\\sklearn\\neural_network\\_multilayer_perceptron.py:692: ConvergenceWarning: Stochastic Optimizer: Maximum iterations (200) reached and the optimization hasn't converged yet.\n",
      "  warnings.warn(\n",
      "c:\\Users\\jana.jankovic\\.pyenv\\pyenv-win\\versions\\3.10.5\\lib\\site-packages\\sklearn\\neural_network\\_multilayer_perceptron.py:1599: DataConversionWarning: A column-vector y was passed when a 1d array was expected. Please change the shape of y to (n_samples, ), for example using ravel().\n",
      "  y = column_or_1d(y, warn=True)\n"
     ]
    },
    {
     "name": "stdout",
     "output_type": "stream",
     "text": [
      "[CV] END MLPR__hidden_layer_sizes=32, MLPR__learning_rate_init=0.001; total time=   3.5s\n"
     ]
    },
    {
     "name": "stderr",
     "output_type": "stream",
     "text": [
      "c:\\Users\\jana.jankovic\\.pyenv\\pyenv-win\\versions\\3.10.5\\lib\\site-packages\\sklearn\\neural_network\\_multilayer_perceptron.py:692: ConvergenceWarning: Stochastic Optimizer: Maximum iterations (200) reached and the optimization hasn't converged yet.\n",
      "  warnings.warn(\n",
      "c:\\Users\\jana.jankovic\\.pyenv\\pyenv-win\\versions\\3.10.5\\lib\\site-packages\\sklearn\\neural_network\\_multilayer_perceptron.py:1599: DataConversionWarning: A column-vector y was passed when a 1d array was expected. Please change the shape of y to (n_samples, ), for example using ravel().\n",
      "  y = column_or_1d(y, warn=True)\n"
     ]
    },
    {
     "name": "stdout",
     "output_type": "stream",
     "text": [
      "[CV] END MLPR__hidden_layer_sizes=32, MLPR__learning_rate_init=0.001; total time=   3.2s\n"
     ]
    },
    {
     "name": "stderr",
     "output_type": "stream",
     "text": [
      "c:\\Users\\jana.jankovic\\.pyenv\\pyenv-win\\versions\\3.10.5\\lib\\site-packages\\sklearn\\neural_network\\_multilayer_perceptron.py:692: ConvergenceWarning: Stochastic Optimizer: Maximum iterations (200) reached and the optimization hasn't converged yet.\n",
      "  warnings.warn(\n",
      "c:\\Users\\jana.jankovic\\.pyenv\\pyenv-win\\versions\\3.10.5\\lib\\site-packages\\sklearn\\neural_network\\_multilayer_perceptron.py:1599: DataConversionWarning: A column-vector y was passed when a 1d array was expected. Please change the shape of y to (n_samples, ), for example using ravel().\n",
      "  y = column_or_1d(y, warn=True)\n"
     ]
    },
    {
     "name": "stdout",
     "output_type": "stream",
     "text": [
      "[CV] END MLPR__hidden_layer_sizes=32, MLPR__learning_rate_init=0.001; total time=   3.1s\n"
     ]
    },
    {
     "name": "stderr",
     "output_type": "stream",
     "text": [
      "c:\\Users\\jana.jankovic\\.pyenv\\pyenv-win\\versions\\3.10.5\\lib\\site-packages\\sklearn\\neural_network\\_multilayer_perceptron.py:692: ConvergenceWarning: Stochastic Optimizer: Maximum iterations (200) reached and the optimization hasn't converged yet.\n",
      "  warnings.warn(\n",
      "c:\\Users\\jana.jankovic\\.pyenv\\pyenv-win\\versions\\3.10.5\\lib\\site-packages\\sklearn\\neural_network\\_multilayer_perceptron.py:1599: DataConversionWarning: A column-vector y was passed when a 1d array was expected. Please change the shape of y to (n_samples, ), for example using ravel().\n",
      "  y = column_or_1d(y, warn=True)\n"
     ]
    },
    {
     "name": "stdout",
     "output_type": "stream",
     "text": [
      "[CV] END MLPR__hidden_layer_sizes=32, MLPR__learning_rate_init=0.001; total time=   3.7s\n"
     ]
    },
    {
     "name": "stderr",
     "output_type": "stream",
     "text": [
      "c:\\Users\\jana.jankovic\\.pyenv\\pyenv-win\\versions\\3.10.5\\lib\\site-packages\\sklearn\\neural_network\\_multilayer_perceptron.py:692: ConvergenceWarning: Stochastic Optimizer: Maximum iterations (200) reached and the optimization hasn't converged yet.\n",
      "  warnings.warn(\n",
      "c:\\Users\\jana.jankovic\\.pyenv\\pyenv-win\\versions\\3.10.5\\lib\\site-packages\\sklearn\\neural_network\\_multilayer_perceptron.py:1599: DataConversionWarning: A column-vector y was passed when a 1d array was expected. Please change the shape of y to (n_samples, ), for example using ravel().\n",
      "  y = column_or_1d(y, warn=True)\n"
     ]
    },
    {
     "name": "stdout",
     "output_type": "stream",
     "text": [
      "[CV] END MLPR__hidden_layer_sizes=32, MLPR__learning_rate_init=0.001; total time=   3.0s\n",
      "[CV] END MLPR__hidden_layer_sizes=32, MLPR__learning_rate_init=0.01; total time=   2.7s\n"
     ]
    },
    {
     "name": "stderr",
     "output_type": "stream",
     "text": [
      "c:\\Users\\jana.jankovic\\.pyenv\\pyenv-win\\versions\\3.10.5\\lib\\site-packages\\sklearn\\neural_network\\_multilayer_perceptron.py:1599: DataConversionWarning: A column-vector y was passed when a 1d array was expected. Please change the shape of y to (n_samples, ), for example using ravel().\n",
      "  y = column_or_1d(y, warn=True)\n"
     ]
    },
    {
     "name": "stdout",
     "output_type": "stream",
     "text": [
      "[CV] END MLPR__hidden_layer_sizes=32, MLPR__learning_rate_init=0.01; total time=   2.1s\n"
     ]
    },
    {
     "name": "stderr",
     "output_type": "stream",
     "text": [
      "c:\\Users\\jana.jankovic\\.pyenv\\pyenv-win\\versions\\3.10.5\\lib\\site-packages\\sklearn\\neural_network\\_multilayer_perceptron.py:1599: DataConversionWarning: A column-vector y was passed when a 1d array was expected. Please change the shape of y to (n_samples, ), for example using ravel().\n",
      "  y = column_or_1d(y, warn=True)\n"
     ]
    },
    {
     "name": "stdout",
     "output_type": "stream",
     "text": [
      "[CV] END MLPR__hidden_layer_sizes=32, MLPR__learning_rate_init=0.01; total time=   3.1s\n"
     ]
    },
    {
     "name": "stderr",
     "output_type": "stream",
     "text": [
      "c:\\Users\\jana.jankovic\\.pyenv\\pyenv-win\\versions\\3.10.5\\lib\\site-packages\\sklearn\\neural_network\\_multilayer_perceptron.py:1599: DataConversionWarning: A column-vector y was passed when a 1d array was expected. Please change the shape of y to (n_samples, ), for example using ravel().\n",
      "  y = column_or_1d(y, warn=True)\n"
     ]
    },
    {
     "name": "stdout",
     "output_type": "stream",
     "text": [
      "[CV] END MLPR__hidden_layer_sizes=32, MLPR__learning_rate_init=0.01; total time=   2.2s\n"
     ]
    },
    {
     "name": "stderr",
     "output_type": "stream",
     "text": [
      "c:\\Users\\jana.jankovic\\.pyenv\\pyenv-win\\versions\\3.10.5\\lib\\site-packages\\sklearn\\neural_network\\_multilayer_perceptron.py:1599: DataConversionWarning: A column-vector y was passed when a 1d array was expected. Please change the shape of y to (n_samples, ), for example using ravel().\n",
      "  y = column_or_1d(y, warn=True)\n"
     ]
    },
    {
     "name": "stdout",
     "output_type": "stream",
     "text": [
      "[CV] END MLPR__hidden_layer_sizes=32, MLPR__learning_rate_init=0.01; total time=   2.3s\n"
     ]
    },
    {
     "name": "stderr",
     "output_type": "stream",
     "text": [
      "c:\\Users\\jana.jankovic\\.pyenv\\pyenv-win\\versions\\3.10.5\\lib\\site-packages\\sklearn\\neural_network\\_multilayer_perceptron.py:1599: DataConversionWarning: A column-vector y was passed when a 1d array was expected. Please change the shape of y to (n_samples, ), for example using ravel().\n",
      "  y = column_or_1d(y, warn=True)\n",
      "c:\\Users\\jana.jankovic\\.pyenv\\pyenv-win\\versions\\3.10.5\\lib\\site-packages\\sklearn\\neural_network\\_multilayer_perceptron.py:692: ConvergenceWarning: Stochastic Optimizer: Maximum iterations (200) reached and the optimization hasn't converged yet.\n",
      "  warnings.warn(\n",
      "c:\\Users\\jana.jankovic\\.pyenv\\pyenv-win\\versions\\3.10.5\\lib\\site-packages\\sklearn\\neural_network\\_multilayer_perceptron.py:1599: DataConversionWarning: A column-vector y was passed when a 1d array was expected. Please change the shape of y to (n_samples, ), for example using ravel().\n",
      "  y = column_or_1d(y, warn=True)\n"
     ]
    },
    {
     "name": "stdout",
     "output_type": "stream",
     "text": [
      "[CV] END MLPR__hidden_layer_sizes=16, MLPR__learning_rate_init=0.001; total time=   2.6s\n"
     ]
    },
    {
     "name": "stderr",
     "output_type": "stream",
     "text": [
      "c:\\Users\\jana.jankovic\\.pyenv\\pyenv-win\\versions\\3.10.5\\lib\\site-packages\\sklearn\\neural_network\\_multilayer_perceptron.py:692: ConvergenceWarning: Stochastic Optimizer: Maximum iterations (200) reached and the optimization hasn't converged yet.\n",
      "  warnings.warn(\n",
      "c:\\Users\\jana.jankovic\\.pyenv\\pyenv-win\\versions\\3.10.5\\lib\\site-packages\\sklearn\\neural_network\\_multilayer_perceptron.py:1599: DataConversionWarning: A column-vector y was passed when a 1d array was expected. Please change the shape of y to (n_samples, ), for example using ravel().\n",
      "  y = column_or_1d(y, warn=True)\n"
     ]
    },
    {
     "name": "stdout",
     "output_type": "stream",
     "text": [
      "[CV] END MLPR__hidden_layer_sizes=16, MLPR__learning_rate_init=0.001; total time=   2.8s\n"
     ]
    },
    {
     "name": "stderr",
     "output_type": "stream",
     "text": [
      "c:\\Users\\jana.jankovic\\.pyenv\\pyenv-win\\versions\\3.10.5\\lib\\site-packages\\sklearn\\neural_network\\_multilayer_perceptron.py:692: ConvergenceWarning: Stochastic Optimizer: Maximum iterations (200) reached and the optimization hasn't converged yet.\n",
      "  warnings.warn(\n",
      "c:\\Users\\jana.jankovic\\.pyenv\\pyenv-win\\versions\\3.10.5\\lib\\site-packages\\sklearn\\neural_network\\_multilayer_perceptron.py:1599: DataConversionWarning: A column-vector y was passed when a 1d array was expected. Please change the shape of y to (n_samples, ), for example using ravel().\n",
      "  y = column_or_1d(y, warn=True)\n"
     ]
    },
    {
     "name": "stdout",
     "output_type": "stream",
     "text": [
      "[CV] END MLPR__hidden_layer_sizes=16, MLPR__learning_rate_init=0.001; total time=   2.9s\n"
     ]
    },
    {
     "name": "stderr",
     "output_type": "stream",
     "text": [
      "c:\\Users\\jana.jankovic\\.pyenv\\pyenv-win\\versions\\3.10.5\\lib\\site-packages\\sklearn\\neural_network\\_multilayer_perceptron.py:692: ConvergenceWarning: Stochastic Optimizer: Maximum iterations (200) reached and the optimization hasn't converged yet.\n",
      "  warnings.warn(\n",
      "c:\\Users\\jana.jankovic\\.pyenv\\pyenv-win\\versions\\3.10.5\\lib\\site-packages\\sklearn\\neural_network\\_multilayer_perceptron.py:1599: DataConversionWarning: A column-vector y was passed when a 1d array was expected. Please change the shape of y to (n_samples, ), for example using ravel().\n",
      "  y = column_or_1d(y, warn=True)\n"
     ]
    },
    {
     "name": "stdout",
     "output_type": "stream",
     "text": [
      "[CV] END MLPR__hidden_layer_sizes=16, MLPR__learning_rate_init=0.001; total time=   3.2s\n"
     ]
    },
    {
     "name": "stderr",
     "output_type": "stream",
     "text": [
      "c:\\Users\\jana.jankovic\\.pyenv\\pyenv-win\\versions\\3.10.5\\lib\\site-packages\\sklearn\\neural_network\\_multilayer_perceptron.py:692: ConvergenceWarning: Stochastic Optimizer: Maximum iterations (200) reached and the optimization hasn't converged yet.\n",
      "  warnings.warn(\n",
      "c:\\Users\\jana.jankovic\\.pyenv\\pyenv-win\\versions\\3.10.5\\lib\\site-packages\\sklearn\\neural_network\\_multilayer_perceptron.py:1599: DataConversionWarning: A column-vector y was passed when a 1d array was expected. Please change the shape of y to (n_samples, ), for example using ravel().\n",
      "  y = column_or_1d(y, warn=True)\n"
     ]
    },
    {
     "name": "stdout",
     "output_type": "stream",
     "text": [
      "[CV] END MLPR__hidden_layer_sizes=16, MLPR__learning_rate_init=0.001; total time=   2.7s\n",
      "[CV] END MLPR__hidden_layer_sizes=16, MLPR__learning_rate_init=0.01; total time=   2.3s\n"
     ]
    },
    {
     "name": "stderr",
     "output_type": "stream",
     "text": [
      "c:\\Users\\jana.jankovic\\.pyenv\\pyenv-win\\versions\\3.10.5\\lib\\site-packages\\sklearn\\neural_network\\_multilayer_perceptron.py:1599: DataConversionWarning: A column-vector y was passed when a 1d array was expected. Please change the shape of y to (n_samples, ), for example using ravel().\n",
      "  y = column_or_1d(y, warn=True)\n"
     ]
    },
    {
     "name": "stdout",
     "output_type": "stream",
     "text": [
      "[CV] END MLPR__hidden_layer_sizes=16, MLPR__learning_rate_init=0.01; total time=   1.0s\n"
     ]
    },
    {
     "name": "stderr",
     "output_type": "stream",
     "text": [
      "c:\\Users\\jana.jankovic\\.pyenv\\pyenv-win\\versions\\3.10.5\\lib\\site-packages\\sklearn\\neural_network\\_multilayer_perceptron.py:1599: DataConversionWarning: A column-vector y was passed when a 1d array was expected. Please change the shape of y to (n_samples, ), for example using ravel().\n",
      "  y = column_or_1d(y, warn=True)\n"
     ]
    },
    {
     "name": "stdout",
     "output_type": "stream",
     "text": [
      "[CV] END MLPR__hidden_layer_sizes=16, MLPR__learning_rate_init=0.01; total time=   0.9s\n"
     ]
    },
    {
     "name": "stderr",
     "output_type": "stream",
     "text": [
      "c:\\Users\\jana.jankovic\\.pyenv\\pyenv-win\\versions\\3.10.5\\lib\\site-packages\\sklearn\\neural_network\\_multilayer_perceptron.py:1599: DataConversionWarning: A column-vector y was passed when a 1d array was expected. Please change the shape of y to (n_samples, ), for example using ravel().\n",
      "  y = column_or_1d(y, warn=True)\n",
      "c:\\Users\\jana.jankovic\\.pyenv\\pyenv-win\\versions\\3.10.5\\lib\\site-packages\\sklearn\\neural_network\\_multilayer_perceptron.py:692: ConvergenceWarning: Stochastic Optimizer: Maximum iterations (200) reached and the optimization hasn't converged yet.\n",
      "  warnings.warn(\n",
      "c:\\Users\\jana.jankovic\\.pyenv\\pyenv-win\\versions\\3.10.5\\lib\\site-packages\\sklearn\\neural_network\\_multilayer_perceptron.py:1599: DataConversionWarning: A column-vector y was passed when a 1d array was expected. Please change the shape of y to (n_samples, ), for example using ravel().\n",
      "  y = column_or_1d(y, warn=True)\n"
     ]
    },
    {
     "name": "stdout",
     "output_type": "stream",
     "text": [
      "[CV] END MLPR__hidden_layer_sizes=16, MLPR__learning_rate_init=0.01; total time=   2.5s\n",
      "[CV] END MLPR__hidden_layer_sizes=16, MLPR__learning_rate_init=0.01; total time=   1.6s\n"
     ]
    },
    {
     "name": "stderr",
     "output_type": "stream",
     "text": [
      "c:\\Users\\jana.jankovic\\.pyenv\\pyenv-win\\versions\\3.10.5\\lib\\site-packages\\sklearn\\neural_network\\_multilayer_perceptron.py:1599: DataConversionWarning: A column-vector y was passed when a 1d array was expected. Please change the shape of y to (n_samples, ), for example using ravel().\n",
      "  y = column_or_1d(y, warn=True)\n",
      "c:\\Users\\jana.jankovic\\.pyenv\\pyenv-win\\versions\\3.10.5\\lib\\site-packages\\sklearn\\neural_network\\_multilayer_perceptron.py:692: ConvergenceWarning: Stochastic Optimizer: Maximum iterations (200) reached and the optimization hasn't converged yet.\n",
      "  warnings.warn(\n",
      "2023/04/07 20:00:19 WARNING mlflow.utils.autologging_utils: MLflow autologging encountered a warning: \"c:\\Users\\jana.jankovic\\.pyenv\\pyenv-win\\versions\\3.10.5\\lib\\site-packages\\mlflow\\models\\signature.py:130: UserWarning: Hint: Inferred schema contains integer column(s). Integer columns in Python cannot represent missing values. If your input data contains missing values at inference time, it will be encoded as floats and will cause a schema enforcement error. The best way to avoid this problem is to infer the model schema based on a realistic data sample (training dataset) that includes missing values. Alternatively, you can declare integer columns as doubles (float64) whenever these columns may have missing values. See `Handling Integers With Missing Values <https://www.mlflow.org/docs/latest/models.html#handling-integers-with-missing-values>`_ for more details.\"\n",
      "2023/04/07 20:00:22 WARNING mlflow.models.model: Logging model metadata to the tracking server has failed, possibly due older server version. The model artifacts have been logged successfully under s3://iis-airpollution/mlruns/de54e4439dc04abc869b6ca1e105596c/artifacts. In addition to exporting model artifacts, MLflow clients 1.7.0 and above attempt to record model metadata to the tracking store. If logging to a mlflow server via REST, consider upgrading the server version to MLflow 1.7.0 or above. Set logging level to DEBUG via `logging.getLogger(\"mlflow\").setLevel(logging.DEBUG)` to see the full traceback.\n",
      "2023/04/07 20:00:26 WARNING mlflow.models.model: Logging model metadata to the tracking server has failed, possibly due older server version. The model artifacts have been logged successfully under s3://iis-airpollution/mlruns/de54e4439dc04abc869b6ca1e105596c/artifacts. In addition to exporting model artifacts, MLflow clients 1.7.0 and above attempt to record model metadata to the tracking store. If logging to a mlflow server via REST, consider upgrading the server version to MLflow 1.7.0 or above. Set logging level to DEBUG via `logging.getLogger(\"mlflow\").setLevel(logging.DEBUG)` to see the full traceback.\n",
      "2023/04/07 20:00:26 INFO mlflow.sklearn.utils: Logging the 5 best runs, no runs will be omitted.\n",
      "2023/04/07 20:00:27 WARNING mlflow.utils.autologging_utils: Encountered unexpected error during sklearn autologging: The following failures occurred while performing one or more logging operations: [MlflowException('Failed to perform one or more operations on the run with ID de54e4439dc04abc869b6ca1e105596c. Failed operations: [RestException(\"INVALID_PARAMETER_VALUE: Response: {\\'error_code\\': \\'INVALID_PARAMETER_VALUE\\'}\")]')]\n",
      "2023/04/07 20:00:27 WARNING mlflow.sklearn: Training metrics will not be recorded because training labels were not specified. To automatically record training metrics, provide training labels as inputs to the model training function.\n",
      "2023/04/07 20:00:27 WARNING mlflow.sklearn: Failed to infer model signature: the trained model does not specify a `predict` function, which is required in order to infer the signature\n",
      "2023/04/07 20:00:27 WARNING mlflow.sklearn: Model was missing function: predict. Not logging python_function flavor!\n"
     ]
    },
    {
     "name": "stdout",
     "output_type": "stream",
     "text": [
      "Data read\n"
     ]
    },
    {
     "name": "stderr",
     "output_type": "stream",
     "text": [
      "2023/04/07 20:00:31 WARNING mlflow.models.model: Logging model metadata to the tracking server has failed, possibly due older server version. The model artifacts have been logged successfully under s3://iis-airpollution/mlruns/de54e4439dc04abc869b6ca1e105596c/artifacts. In addition to exporting model artifacts, MLflow clients 1.7.0 and above attempt to record model metadata to the tracking store. If logging to a mlflow server via REST, consider upgrading the server version to MLflow 1.7.0 or above. Set logging level to DEBUG via `logging.getLogger(\"mlflow\").setLevel(logging.DEBUG)` to see the full traceback.\n",
      "2023/04/07 20:00:31 WARNING mlflow.utils.autologging_utils: Encountered unexpected error during sklearn autologging: The following failures occurred while performing one or more logging operations: [MlflowException('Failed to perform one or more operations on the run with ID de54e4439dc04abc869b6ca1e105596c. Failed operations: [RestException(\"INVALID_PARAMETER_VALUE: Response: {\\'error_code\\': \\'INVALID_PARAMETER_VALUE\\'}\")]')]\n",
      "c:\\Users\\jana.jankovic\\.pyenv\\pyenv-win\\versions\\3.10.5\\lib\\site-packages\\mlflow\\models\\signature.py:130: UserWarning: Hint: Inferred schema contains integer column(s). Integer columns in Python cannot represent missing values. If your input data contains missing values at inference time, it will be encoded as floats and will cause a schema enforcement error. The best way to avoid this problem is to infer the model schema based on a realistic data sample (training dataset) that includes missing values. Alternatively, you can declare integer columns as doubles (float64) whenever these columns may have missing values. See `Handling Integers With Missing Values <https://www.mlflow.org/docs/latest/models.html#handling-integers-with-missing-values>`_ for more details.\n",
      "  inputs = _infer_schema(model_input)\n",
      "2023/04/07 20:00:35 WARNING mlflow.models.model: Logging model metadata to the tracking server has failed, possibly due older server version. The model artifacts have been logged successfully under s3://iis-airpollution/mlruns/de54e4439dc04abc869b6ca1e105596c/artifacts. In addition to exporting model artifacts, MLflow clients 1.7.0 and above attempt to record model metadata to the tracking store. If logging to a mlflow server via REST, consider upgrading the server version to MLflow 1.7.0 or above. Set logging level to DEBUG via `logging.getLogger(\"mlflow\").setLevel(logging.DEBUG)` to see the full traceback.\n",
      "Registered model 'MLPRegressor' already exists. Creating a new version of this model...\n",
      "2023/04/07 20:00:35 INFO mlflow.tracking._model_registry.client: Waiting up to 300 seconds for model version to finish creation.                     Model name: MLPRegressor, version 11\n",
      "Created version '11' of model 'MLPRegressor'.\n"
     ]
    },
    {
     "name": "stdout",
     "output_type": "stream",
     "text": [
      "Model trained\n",
      "Reports updated\n",
      "Model serialized\n",
      "<ActiveRun: >\n"
     ]
    }
   ],
   "source": [
    "csv = pd.read_csv(train_path, encoding='utf_8')\n",
    "train = pd.DataFrame(csv)\n",
    "\n",
    "x_train = train.drop('pm10', axis=1)\n",
    "y_train = pd.DataFrame(train['pm10'])\n",
    "\n",
    "num_features = ['temp', 'hum', 'percp', 'wspeed']\n",
    "\n",
    "categorical_transform = Pipeline([\n",
    "    ('transformer', CategoricalTransformer())\n",
    "])\n",
    "\n",
    "arr = categorical_transform.fit_transform(y_train)\n",
    "y_train = pd.DataFrame(arr, columns=['pm10'])\n",
    "\n",
    "numerical_transform = Pipeline([\n",
    "    ('imputer', SimpleImputer(strategy='mean'))\n",
    "])\n",
    "\n",
    "preprocessor = ColumnTransformer([\n",
    "    ('numerical_transform', numerical_transform,\n",
    "        num_features),\n",
    "])\n",
    "\n",
    "pipe = Pipeline([\n",
    "    ('preprocess', preprocessor),\n",
    "    ('MLPR', MLPRegressor())\n",
    "])\n",
    "\n",
    "parameter_space = {\n",
    "    \"MLPR__hidden_layer_sizes\": [(32), (16)],\n",
    "    \"MLPR__learning_rate_init\": [0.001, 0.01]\n",
    "}\n",
    "\n",
    "search = GridSearchCV(pipe, parameter_space,\n",
    "                        verbose=2, error_score='raise')\n",
    "search.fit(x_train, y_train)\n",
    "\n",
    "test = transform_test(test_path, categorical_transform, numerical_transform)\n",
    "x_test = test.drop('pm10', axis=1)\n",
    "y_test = pd.DataFrame(test['pm10'])\n",
    "\n",
    "\n",
    "signature = infer_signature(x_train, search.predict(x_test))\n",
    "mlflow.sklearn.log_model(search, signature=signature, artifact_path=\"MLPRegressor\",\n",
    "        registered_model_name=\"MLPRegressor\")\n",
    "\n",
    "prediction = search.predict(x_test)\n",
    "print('Model trained')\n",
    "\n",
    "# Calculate MSE and MAE for the test data\n",
    "mse_test = mean_squared_error(y_test, prediction)\n",
    "mae_test = mean_absolute_error(y_test, prediction)\n",
    "evs_test = explained_variance_score(y_test, prediction)\n",
    "\n",
    "mlflow.log_metric(\"MSE Test\", mse_test)\n",
    "mlflow.log_metric(\"MAE Test\", mae_test)\n",
    "mlflow.log_metric(\"EVS Test\", evs_test)\n",
    "\n",
    "with open(metrics_path, 'w') as file:\n",
    "    file.write('MAE:' + str(mae_test) + '\\n')\n",
    "    file.write('MSE:' + str(mse_test) + '\\n')\n",
    "    file.write('EVS:' + str(evs_test) + '\\n')\n",
    "\n",
    "print('Reports updated')\n",
    "\n",
    "#mlflow.sklearn.log_model(search, \"MLPRegressor\")\n",
    "\n",
    "print('Model serialized')\n",
    "\n",
    "autolog_run = mlflow.last_active_run()\n",
    "print(autolog_run)"
   ]
  },
  {
   "cell_type": "code",
   "execution_count": 124,
   "metadata": {},
   "outputs": [],
   "source": [
    "client = MlflowClient()\n",
    "m = client.get_latest_versions('MLPRegressor', stages=[\"Production\"])[0]\n",
    "history = client.get_metric_history(m.run_id, key='MAE Test')\n",
    "\n",
    "min = history[0].value\n",
    "for h in history:\n",
    "    if h.value < min:\n",
    "        min = h.value\n",
    "\n",
    "if mae_test < min:\n",
    "    print('jere')\n",
    "    client.transition_model_version_stage(\n",
    "        name=\"MLPRegressor\", version=m.version, stage='Production'\n",
    "    )\n",
    "    \n"
   ]
  },
  {
   "cell_type": "code",
   "execution_count": 127,
   "metadata": {},
   "outputs": [
    {
     "name": "stdout",
     "output_type": "stream",
     "text": [
      "15163_MLPRegressor 11\n",
      "[25.420775   26.93741804 26.93741804 ... 26.89865167 26.89865167\n",
      " 26.89865167]\n"
     ]
    }
   ],
   "source": [
    "model_version_info = client.get_latest_versions(\"MLPRegressor\", stages=[\"Production\"])[0]\n",
    "model_uri = model_version_info.source\n",
    "\n",
    "# Load the model\n",
    "loaded_model = mlflow.pyfunc.load_model(model_uri)\n",
    "\n",
    "x_test['hum'] = x_test['hum'].astype('int')\n",
    "\n",
    "# Use the model to make predictions\n",
    "predictions = loaded_model.predict(x_test)\n",
    "print(predictions)"
   ]
  }
 ],
 "metadata": {
  "kernelspec": {
   "display_name": "Python 3",
   "language": "python",
   "name": "python3"
  },
  "language_info": {
   "codemirror_mode": {
    "name": "ipython",
    "version": 3
   },
   "file_extension": ".py",
   "mimetype": "text/x-python",
   "name": "python",
   "nbconvert_exporter": "python",
   "pygments_lexer": "ipython3",
   "version": "3.10.5"
  },
  "orig_nbformat": 4
 },
 "nbformat": 4,
 "nbformat_minor": 2
}

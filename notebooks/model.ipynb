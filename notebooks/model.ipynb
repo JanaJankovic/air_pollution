{
 "cells": [
  {
   "cell_type": "code",
   "execution_count": 3,
   "metadata": {},
   "outputs": [],
   "source": [
    "import pandas as pd\n",
    "import pickle\n",
    "from sklearn.metrics import mean_absolute_error, mean_squared_error, explained_variance_score\n",
    "from sklearn.model_selection import train_test_split\n",
    "from sklearn.linear_model import LinearRegression\n",
    "import numpy as np"
   ]
  },
  {
   "cell_type": "code",
   "execution_count": 4,
   "metadata": {},
   "outputs": [],
   "source": [
    "csv_dataset = '../data/processed/data.csv'\n",
    "csv = pd.read_csv(csv_dataset, encoding='utf_8')\n",
    "df = pd.DataFrame(csv)\n",
    "df = df.drop(columns='date')"
   ]
  },
  {
   "cell_type": "code",
   "execution_count": 5,
   "metadata": {},
   "outputs": [
    {
     "name": "stdout",
     "output_type": "stream",
     "text": [
      "MSE train: 189.85170922199032\n",
      "MAE train: 10.748315515781071\n",
      "MSE test: 184.6730018213876\n",
      "MAE test: 10.7210955391629\n"
     ]
    }
   ],
   "source": [
    "columns = np.array(df.columns)\n",
    "mask = columns != 'pm10'\n",
    "x_train, x_test, y_train, y_test = train_test_split(\n",
    "        df[columns[mask]], df['pm10'], test_size=0.3, random_state=1234, shuffle=True)\n",
    "model = LinearRegression()\n",
    "model.fit(x_train, y_train)\n",
    "prediction = model.predict(x_test)\n",
    "\n",
    "# Calculate MSE and MAE for the test data\n",
    "mse_test = mean_squared_error(y_test, prediction)\n",
    "mae_test = mean_absolute_error(y_test, prediction)\n",
    "evs_test = explained_variance_score(y_test, prediction)\n",
    "\n",
    "# Make predictions for the training data\n",
    "predictions_train = model.predict(x_train)\n",
    "\n",
    "\n",
    "# Calculate MSE and MAE for the training data\n",
    "mse_train = mean_squared_error(y_train, predictions_train)\n",
    "mae_train = mean_absolute_error(y_train, predictions_train)\n",
    "evs_train = explained_variance_score(y_train, predictions_train)\n",
    "\n",
    "# Print the results\n",
    "print('MSE train:', mse_train)\n",
    "print('MAE train:', mae_train)\n",
    "print('MSE test:', mse_test)\n",
    "print('MAE test:', mae_test)"
   ]
  },
  {
   "cell_type": "code",
   "execution_count": 6,
   "metadata": {},
   "outputs": [],
   "source": [
    "with open('../reports/train_metrics.txt', 'w') as file:\n",
    "    file.write('MAE:' + str(mae_train) + '\\n')\n",
    "    file.write('MSE:' + str(mse_train) + '\\n')\n",
    "    file.write('EVS:' + str(evs_train) + '\\n')"
   ]
  },
  {
   "cell_type": "code",
   "execution_count": 7,
   "metadata": {},
   "outputs": [],
   "source": [
    "with open('../reports/metrics.txt', 'w') as file:\n",
    "    file.write('MAE:' + str(mae_test) + '\\n')\n",
    "    file.write('MSE:' + str(mse_test) + '\\n')\n",
    "    file.write('EVS:' + str(evs_test) + '\\n')\n"
   ]
  },
  {
   "cell_type": "code",
   "execution_count": 8,
   "metadata": {},
   "outputs": [],
   "source": [
    "with open('../models/model.pickle', 'wb') as f:\n",
    "    pickle.dump(model, f)"
   ]
  }
 ],
 "metadata": {
  "kernelspec": {
   "display_name": "Python 3",
   "language": "python",
   "name": "python3"
  },
  "language_info": {
   "codemirror_mode": {
    "name": "ipython",
    "version": 3
   },
   "file_extension": ".py",
   "mimetype": "text/x-python",
   "name": "python",
   "nbconvert_exporter": "python",
   "pygments_lexer": "ipython3",
   "version": "3.11.1"
  },
  "orig_nbformat": 4,
  "vscode": {
   "interpreter": {
    "hash": "56332c8d5072a0e6f254166552cca61e2a4d2b6dfb035f810484f2136b82c267"
   }
  }
 },
 "nbformat": 4,
 "nbformat_minor": 2
}

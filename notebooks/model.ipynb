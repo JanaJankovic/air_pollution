{
 "cells": [
  {
   "cell_type": "code",
   "execution_count": 44,
   "metadata": {},
   "outputs": [],
   "source": [
    "import pandas as pd\n",
    "import pickle\n",
    "from sklearn.metrics import mean_absolute_error, mean_squared_error, explained_variance_score\n",
    "from statsmodels.tsa.vector_ar.var_model import VAR"
   ]
  },
  {
   "cell_type": "code",
   "execution_count": 49,
   "metadata": {},
   "outputs": [],
   "source": [
    "csv_dataset = '../data/processed/data.csv'\n",
    "csv = pd.read_csv(csv_dataset, encoding='utf_8')\n",
    "df = pd.DataFrame(csv)\n",
    "df = df.drop(columns='date')"
   ]
  },
  {
   "cell_type": "code",
   "execution_count": 50,
   "metadata": {},
   "outputs": [
    {
     "name": "stdout",
     "output_type": "stream",
     "text": [
      "MSE train: 0.764211575621414\n",
      "MAE train: 0.4612037826366892\n",
      "MSE test: 449.89493849715575\n",
      "MAE test: 12.913437839777213\n"
     ]
    }
   ],
   "source": [
    "# Set the lags to 72\n",
    "lags = 72\n",
    "\n",
    "# Split the data into training and testing sets\n",
    "train = df[:-lags]\n",
    "test = df[-lags:]\n",
    "\n",
    "# Fit a VAR model with 72 lags\n",
    "model = VAR(train)\n",
    "results = model.fit(lags)\n",
    "\n",
    "# Make predictions for the next 3 days\n",
    "predictions = results.forecast(test.values, steps=lags)\n",
    "\n",
    "# Convert the predictions back to a DataFrame\n",
    "predictions = pd.DataFrame(predictions, columns=df.columns, index=test.index)\n",
    "\n",
    "# Calculate MSE and MAE for the test data\n",
    "mse_test = mean_squared_error(test, predictions)\n",
    "mae_test = mean_absolute_error(test, predictions)\n",
    "evs_test = explained_variance_score(test, predictions)\n",
    "\n",
    "# Make predictions for the training data\n",
    "predictions_train = results.fittedvalues\n",
    "\n",
    "train = train[lags:]\n",
    "# Calculate MSE and MAE for the training data\n",
    "mse_train = mean_squared_error(train, predictions_train)\n",
    "mae_train = mean_absolute_error(train, predictions_train)\n",
    "evs_train = explained_variance_score(train, predictions_train)\n",
    "\n",
    "# Print the results\n",
    "print('MSE train:', mse_train)\n",
    "print('MAE train:', mae_train)\n",
    "print('MSE test:', mse_test)\n",
    "print('MAE test:', mae_test)"
   ]
  },
  {
   "cell_type": "code",
   "execution_count": 51,
   "metadata": {},
   "outputs": [],
   "source": [
    "with open('../reports/train_metrics.txt', 'w') as file:\n",
    "    file.write('MAE:' + str(mae_train) + '\\n')\n",
    "    file.write('MSE:' + str(mse_train) + '\\n')\n",
    "    file.write('EVS:' + str(evs_train) + '\\n')"
   ]
  },
  {
   "cell_type": "code",
   "execution_count": 52,
   "metadata": {},
   "outputs": [],
   "source": [
    "with open('../reports/metrics.txt', 'w') as file:\n",
    "    file.write('MAE:' + str(mae_test) + '\\n')\n",
    "    file.write('MSE:' + str(mse_test) + '\\n')\n",
    "    file.write('EVS:' + str(evs_test) + '\\n')\n"
   ]
  },
  {
   "cell_type": "code",
   "execution_count": 54,
   "metadata": {},
   "outputs": [],
   "source": [
    "with open('../models/var_model', 'wb') as f:\n",
    "    pickle.dump(results, f)"
   ]
  }
 ],
 "metadata": {
  "kernelspec": {
   "display_name": "Python 3",
   "language": "python",
   "name": "python3"
  },
  "language_info": {
   "codemirror_mode": {
    "name": "ipython",
    "version": 3
   },
   "file_extension": ".py",
   "mimetype": "text/x-python",
   "name": "python",
   "nbconvert_exporter": "python",
   "pygments_lexer": "ipython3",
   "version": "3.11.1"
  },
  "orig_nbformat": 4,
  "vscode": {
   "interpreter": {
    "hash": "56332c8d5072a0e6f254166552cca61e2a4d2b6dfb035f810484f2136b82c267"
   }
  }
 },
 "nbformat": 4,
 "nbformat_minor": 2
}

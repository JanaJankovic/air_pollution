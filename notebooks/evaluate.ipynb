{
 "cells": [
  {
   "cell_type": "code",
   "execution_count": 60,
   "metadata": {},
   "outputs": [],
   "source": [
    "import pandas as pd\n",
    "import mlflow\n",
    "import os\n",
    "import pymongo\n",
    "from sklearn.metrics import mean_absolute_error, mean_squared_error, explained_variance_score"
   ]
  },
  {
   "cell_type": "code",
   "execution_count": 61,
   "metadata": {},
   "outputs": [
    {
     "data": {
      "text/plain": [
       "<Experiment: artifact_location='s3://air_pollution/monitoring', creation_time=1681488099709, experiment_id='2', last_update_time=1681488099709, lifecycle_stage='active', name='monitoring', tags={}>"
      ]
     },
     "execution_count": 61,
     "metadata": {},
     "output_type": "execute_result"
    }
   ],
   "source": [
    "MLFLOW_TRACKING_URI = \"https://dagshub.com/JanaJankovic/air_pollution.mlflow\"\n",
    "mlflow.set_tracking_uri(MLFLOW_TRACKING_URI)\n",
    "mlflow.set_experiment(\"monitoring\")"
   ]
  },
  {
   "cell_type": "code",
   "execution_count": 62,
   "metadata": {},
   "outputs": [],
   "source": [
    "clientdb = pymongo.MongoClient(os.environ['MONGO_URI'])\n",
    "db = clientdb.iis\n",
    "col = db.prediction"
   ]
  },
  {
   "cell_type": "code",
   "execution_count": 63,
   "metadata": {},
   "outputs": [],
   "source": [
    "def transform_categorical(column):\n",
    "    pm10 = column['pm10']\n",
    "    pm10 = pm10.str.replace('<', '')\n",
    "    nan_mask = pm10.isna()\n",
    "    pm10nan = pm10[nan_mask]\n",
    "\n",
    "    pm10 = pm10.str.strip().dropna().loc[lambda x: x.str.len() > 0]\n",
    "    pm10 = pm10.astype('float')\n",
    "\n",
    "    pm10nan[:] = pm10.mean()\n",
    "    pm10 = pd.concat([pm10, pm10nan], axis=0)\n",
    "\n",
    "    column['pm10'] = pm10.astype('float')\n",
    "    return column"
   ]
  },
  {
   "cell_type": "code",
   "execution_count": 68,
   "metadata": {},
   "outputs": [],
   "source": [
    "def evaluate_predictions(data_we):\n",
    "    csv = pd.read_csv(data_we, encoding='utf_8')\n",
    "    df = pd.DataFrame(csv)\n",
    "\n",
    "    pm10 = transform_categorical(df)     \n",
    "    pm10 = pm10.rename(columns={'datum_od': 'date', 'pm10': 't'})\n",
    "    df = pm10\n",
    "\n",
    "    data = col.find()\n",
    "    df1 = pd.DataFrame()\n",
    "\n",
    "    for x in data:\n",
    "        d = {'date': x['date'], 'y': x['pm10']}\n",
    "        tmp = pd.DataFrame(d)\n",
    "        df1 = pd.concat([df1, tmp], axis=0)\n",
    "    \n",
    "    df['date'] = pd.to_datetime(df['date'])\n",
    "    df1['date'] = pd.to_datetime(df1['date'])\n",
    "\n",
    "    df = pd.merge(df1, df, on='date', how='inner')\n",
    "    df = df.drop_duplicates(subset=['date'], keep='first')\n",
    "    print(df)\n",
    "    df = df.drop(columns='date')\n",
    "\n",
    "    mse_test = mean_squared_error(df['t'], df['y'])\n",
    "    mae_test = mean_absolute_error(df['t'], df['y'])\n",
    "    evs_test = explained_variance_score(df['t'], df['y'])\n",
    "\n",
    "    mlflow.log_metric(\"MSE Test\", mse_test)\n",
    "    mlflow.log_metric(\"MAE Test\", mae_test)\n",
    "    mlflow.log_metric(\"EVS Test\", evs_test)\n",
    "\n"
   ]
  },
  {
   "cell_type": "code",
   "execution_count": 69,
   "metadata": {},
   "outputs": [
    {
     "name": "stdout",
     "output_type": "stream",
     "text": [
      "                  date          y    t\n",
      "0  2023-04-14 00:00:00 -77.361787  2.0\n",
      "36 2023-04-14 01:00:00 -74.525672  2.0\n",
      "72 2023-04-14 02:00:00 -71.231336  2.0\n"
     ]
    }
   ],
   "source": [
    "evaluate_predictions('../data/preprocessed/data_air.csv')"
   ]
  }
 ],
 "metadata": {
  "kernelspec": {
   "display_name": "Python 3",
   "language": "python",
   "name": "python3"
  },
  "language_info": {
   "codemirror_mode": {
    "name": "ipython",
    "version": 3
   },
   "file_extension": ".py",
   "mimetype": "text/x-python",
   "name": "python",
   "nbconvert_exporter": "python",
   "pygments_lexer": "ipython3",
   "version": "3.10.5"
  },
  "orig_nbformat": 4
 },
 "nbformat": 4,
 "nbformat_minor": 2
}
